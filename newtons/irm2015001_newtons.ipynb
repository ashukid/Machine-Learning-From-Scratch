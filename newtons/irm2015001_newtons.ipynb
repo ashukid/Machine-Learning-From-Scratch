{
 "cells": [
  {
   "cell_type": "code",
   "execution_count": 1,
   "metadata": {},
   "outputs": [],
   "source": [
    "import numpy as np\n",
    "import pandas as pd\n",
    "import matplotlib.pyplot as mplot\n",
    "%matplotlib inline"
   ]
  },
  {
   "cell_type": "code",
   "execution_count": 2,
   "metadata": {},
   "outputs": [
    {
     "data": {
      "text/html": [
       "<div>\n",
       "<style scoped>\n",
       "    .dataframe tbody tr th:only-of-type {\n",
       "        vertical-align: middle;\n",
       "    }\n",
       "\n",
       "    .dataframe tbody tr th {\n",
       "        vertical-align: top;\n",
       "    }\n",
       "\n",
       "    .dataframe thead th {\n",
       "        text-align: right;\n",
       "    }\n",
       "</style>\n",
       "<table border=\"1\" class=\"dataframe\">\n",
       "  <thead>\n",
       "    <tr style=\"text-align: right;\">\n",
       "      <th></th>\n",
       "      <th>x1</th>\n",
       "      <th>x2</th>\n",
       "      <th>y</th>\n",
       "    </tr>\n",
       "  </thead>\n",
       "  <tbody>\n",
       "    <tr>\n",
       "      <th>0</th>\n",
       "      <td>0.065428</td>\n",
       "      <td>0.694655</td>\n",
       "      <td>0</td>\n",
       "    </tr>\n",
       "    <tr>\n",
       "      <th>1</th>\n",
       "      <td>0.003266</td>\n",
       "      <td>0.194705</td>\n",
       "      <td>0</td>\n",
       "    </tr>\n",
       "  </tbody>\n",
       "</table>\n",
       "</div>"
      ],
      "text/plain": [
       "         x1        x2  y\n",
       "0  0.065428  0.694655  0\n",
       "1  0.003266  0.194705  0"
      ]
     },
     "execution_count": 2,
     "metadata": {},
     "output_type": "execute_result"
    }
   ],
   "source": [
    "df=pd.read_csv(\"q1.csv\",names=[\"x1\",\"x2\",\"y\"])\n",
    "\n",
    "col=list(df.columns)\n",
    "for c in col[:-1]:\n",
    "    cmin=df[c].min()\n",
    "    cmax=df[c].max()\n",
    "    \n",
    "    df[c]=df[c].apply(lambda x:(x-cmin)/(cmax-cmin))\n",
    "\n",
    "df.head(2)"
   ]
  },
  {
   "cell_type": "code",
   "execution_count": 3,
   "metadata": {},
   "outputs": [
    {
     "data": {
      "text/plain": [
       "<matplotlib.colorbar.Colorbar at 0x10dc7f470>"
      ]
     },
     "execution_count": 3,
     "metadata": {},
     "output_type": "execute_result"
    },
    {
     "data": {
      "image/png": "[encoded data removed]",
      "text/plain": [
       "<Figure size 432x288 with 2 Axes>"
      ]
     },
     "metadata": {},
     "output_type": "display_data"
    }
   ],
   "source": [
    "mplot.scatter(df.iloc[:,0],df.iloc[:,1],c=df.iloc[:,2])\n",
    "mplot.colorbar()"
   ]
  },
  {
   "cell_type": "code",
   "execution_count": 4,
   "metadata": {},
   "outputs": [],
   "source": [
    "df.insert(0,\"x0\",np.ones(len(df)))"
   ]
  },
  {
   "cell_type": "code",
   "execution_count": 5,
   "metadata": {},
   "outputs": [
    {
     "data": {
      "text/html": [
       "<div>\n",
       "<style scoped>\n",
       "    .dataframe tbody tr th:only-of-type {\n",
       "        vertical-align: middle;\n",
       "    }\n",
       "\n",
       "    .dataframe tbody tr th {\n",
       "        vertical-align: top;\n",
       "    }\n",
       "\n",
       "    .dataframe thead th {\n",
       "        text-align: right;\n",
       "    }\n",
       "</style>\n",
       "<table border=\"1\" class=\"dataframe\">\n",
       "  <thead>\n",
       "    <tr style=\"text-align: right;\">\n",
       "      <th></th>\n",
       "      <th>x0</th>\n",
       "      <th>x1</th>\n",
       "      <th>x2</th>\n",
       "      <th>y</th>\n",
       "    </tr>\n",
       "  </thead>\n",
       "  <tbody>\n",
       "    <tr>\n",
       "      <th>0</th>\n",
       "      <td>1.0</td>\n",
       "      <td>0.065428</td>\n",
       "      <td>0.694655</td>\n",
       "      <td>0</td>\n",
       "    </tr>\n",
       "    <tr>\n",
       "      <th>1</th>\n",
       "      <td>1.0</td>\n",
       "      <td>0.003266</td>\n",
       "      <td>0.194705</td>\n",
       "      <td>0</td>\n",
       "    </tr>\n",
       "    <tr>\n",
       "      <th>2</th>\n",
       "      <td>1.0</td>\n",
       "      <td>0.082968</td>\n",
       "      <td>0.619618</td>\n",
       "      <td>0</td>\n",
       "    </tr>\n",
       "    <tr>\n",
       "      <th>3</th>\n",
       "      <td>1.0</td>\n",
       "      <td>0.431764</td>\n",
       "      <td>0.816001</td>\n",
       "      <td>1</td>\n",
       "    </tr>\n",
       "    <tr>\n",
       "      <th>4</th>\n",
       "      <td>1.0</td>\n",
       "      <td>0.701943</td>\n",
       "      <td>0.655392</td>\n",
       "      <td>1</td>\n",
       "    </tr>\n",
       "  </tbody>\n",
       "</table>\n",
       "</div>"
      ],
      "text/plain": [
       "    x0        x1        x2  y\n",
       "0  1.0  0.065428  0.694655  0\n",
       "1  1.0  0.003266  0.194705  0\n",
       "2  1.0  0.082968  0.619618  0\n",
       "3  1.0  0.431764  0.816001  1\n",
       "4  1.0  0.701943  0.655392  1"
      ]
     },
     "execution_count": 5,
     "metadata": {},
     "output_type": "execute_result"
    }
   ],
   "source": [
    "df.head()"
   ]
  },
  {
   "cell_type": "code",
   "execution_count": 13,
   "metadata": {},
   "outputs": [
    {
     "data": {
      "text/plain": [
       "((70, 3), (70, 1), (30, 3), (30, 1))"
      ]
     },
     "execution_count": 13,
     "metadata": {},
     "output_type": "execute_result"
    }
   ],
   "source": [
    "xd=df.values[:,:-1]\n",
    "yd=df.values[:,-1:]\n",
    "\n",
    "index=np.arange(len(xd))\n",
    "np.random.shuffle(index)\n",
    "xd=xd[index]\n",
    "yd=yd[index]\n",
    "\n",
    "tod_do=0.7\n",
    "xtrain,ytrain=xd[:int(len(xd)*tod_do),:],yd[:int(len(yd)*tod_do)]\n",
    "xtest,ytest=xd[int(len(xd)*tod_do):,:],yd[int(len(yd)*tod_do):]\n",
    "inp=3\n",
    "out=1\n",
    "lamb=100\n",
    "lr=0.01\n",
    "\n",
    "xtrain.shape,ytrain.shape,xtest.shape,ytest.shape"
   ]
  },
  {
   "cell_type": "code",
   "execution_count": 14,
   "metadata": {},
   "outputs": [
    {
     "data": {
      "text/plain": [
       "<matplotlib.colorbar.Colorbar at 0x10deb4cc0>"
      ]
     },
     "execution_count": 14,
     "metadata": {},
     "output_type": "execute_result"
    },
    {
     "data": {
      "image/png": "[encoded data removed]",
      "text/plain": [
       "<Figure size 432x288 with 2 Axes>"
      ]
     },
     "metadata": {},
     "output_type": "display_data"
    }
   ],
   "source": [
    "mplot.scatter(xtest[:,1],xtest[:,2],c=ytest[:,0])\n",
    "mplot.colorbar()"
   ]
  },
  {
   "cell_type": "code",
   "execution_count": 15,
   "metadata": {},
   "outputs": [],
   "source": [
    "def sigmoid(x):\n",
    "    return 1/(1+np.exp(-x))\n",
    "def forward(x,wt):\n",
    "    y=np.matmul(x,wt)\n",
    "    return y\n",
    "def loss(y,y_):\n",
    "    l = -(y*np.log(y_) + (1-y)*np.log(1-y_))\n",
    "    return l.mean()\n",
    "def gradients(dw,x):\n",
    "    x=np.swapaxes(x,0,1)\n",
    "    g = np.matmul(x,dw)\n",
    "    return g/x.shape[1]\n",
    "\n",
    "def hessian(out,x):\n",
    "    \n",
    "    h=np.zeros((3,3))\n",
    "    for i in range(len(x)):\n",
    "        hess=np.matmul(x[i:i+1,:].T,x[i:i+1,:])\n",
    "        sig=out[i]*(1-out[i])\n",
    "        h = h + np.linalg.pinv(sig*hess)\n",
    "    return h/len(x)"
   ]
  },
  {
   "cell_type": "code",
   "execution_count": 19,
   "metadata": {},
   "outputs": [
    {
     "data": {
      "text/plain": [
       "((3, 1), array([[ 0.54063981],\n",
       "        [ 0.43639326],\n",
       "        [-0.85968044]]))"
      ]
     },
     "execution_count": 19,
     "metadata": {},
     "output_type": "execute_result"
    }
   ],
   "source": [
    "w=np.random.randn(inp,out)\n",
    "w.shape,w"
   ]
  },
  {
   "cell_type": "code",
   "execution_count": 20,
   "metadata": {},
   "outputs": [
    {
     "name": "stdout",
     "output_type": "stream",
     "text": [
      "[[-2.83276564]\n",
      " [ 4.06970045]\n",
      " [ 2.6425262 ]]\n"
     ]
    }
   ],
   "source": [
    "earr=[]\n",
    "larr=[]\n",
    "for epoch in range(1000):\n",
    "    \n",
    "    output=forward(xtrain,w)\n",
    "    output=sigmoid(output)\n",
    "    dw=(output-ytrain)\n",
    "    \n",
    "    earr.append(epoch)\n",
    "    larr.append(loss(ytrain,output))\n",
    "    \n",
    "    \n",
    "    grad=gradients(dw,xtrain)\n",
    "    hess=hessian(output,xtrain)\n",
    "    w = w - np.matmul(hess,grad)\n",
    "        \n",
    "print(w)"
   ]
  },
  {
   "cell_type": "code",
   "execution_count": 21,
   "metadata": {},
   "outputs": [
    {
     "data": {
      "text/plain": [
       "[<matplotlib.lines.Line2D at 0x10dfd5400>]"
      ]
     },
     "execution_count": 21,
     "metadata": {},
     "output_type": "execute_result"
    },
    {
     "data": {
      "image/png": "[encoded data removed]",
      "text/plain": [
       "<Figure size 432x288 with 1 Axes>"
      ]
     },
     "metadata": {},
     "output_type": "display_data"
    }
   ],
   "source": [
    "mplot.plot(earr,larr)"
   ]
  },
  {
   "cell_type": "code",
   "execution_count": 22,
   "metadata": {},
   "outputs": [
    {
     "name": "stdout",
     "output_type": "stream",
     "text": [
      "accuracy : 90.0\n"
     ]
    }
   ],
   "source": [
    "pred=np.ravel(sigmoid(forward(xtest,w)))\n",
    "pred=np.array([round(p) for p in pred])\n",
    "pred.shape,ytest.shape\n",
    "acc=np.mean(np.equal(pred,ytest.flatten()))\n",
    "print(\"accuracy : {}\".format(acc*100))"
   ]
  },
  {
   "cell_type": "code",
   "execution_count": null,
   "metadata": {},
   "outputs": [],
   "source": []
  }
 ],
 "metadata": {
  "kernelspec": {
   "display_name": "Python 3",
   "language": "python",
   "name": "python3"
  },
  "language_info": {
   "codemirror_mode": {
    "name": "ipython",
    "version": 3
   },
   "file_extension": ".py",
   "mimetype": "text/x-python",
   "name": "python",
   "nbconvert_exporter": "python",
   "pygments_lexer": "ipython3",
   "version": "3.6.5"
  }
 },
 "nbformat": 4,
 "nbformat_minor": 2
}
