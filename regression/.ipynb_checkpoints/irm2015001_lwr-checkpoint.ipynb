{
 "cells": [
  {
   "cell_type": "code",
   "execution_count": 1,
   "metadata": {},
   "outputs": [],
   "source": [
    "import numpy as np\n",
    "import pandas as pd\n",
    "from numpy import genfromtxt\n",
    "import matplotlib.pyplot as plt"
   ]
  },
  {
   "cell_type": "markdown",
   "metadata": {},
   "source": [
    "#### data"
   ]
  },
  {
   "cell_type": "code",
   "execution_count": 2,
   "metadata": {},
   "outputs": [],
   "source": [
    "data=pd.read_csv('data.csv',index_col=0)"
   ]
  },
  {
   "cell_type": "code",
   "execution_count": 3,
   "metadata": {},
   "outputs": [],
   "source": [
    "categorical=['driveway','recroom','fullbase','gashw','airco','prefarea']\n",
    "#converting categorical data to numerical values\n",
    "for col in categorical:\n",
    "    \n",
    "    temp=data.loc[:,col]\n",
    "    c=temp.nunique()\n",
    "    temp=temp.astype('category')\n",
    "    temp.cat.categories=np.arange(c)\n",
    "    \n",
    "    data.loc[:,col]=temp"
   ]
  },
  {
   "cell_type": "markdown",
   "metadata": {},
   "source": [
    "##### normalization"
   ]
  },
  {
   "cell_type": "code",
   "execution_count": 4,
   "metadata": {},
   "outputs": [],
   "source": [
    "pmax=data.loc[:,'price'].max()\n",
    "pmin=data.loc[:,'price'].min()\n",
    "data.loc[:,'price']=data.loc[:,'price'].apply(lambda x:(x-pmin)/(pmax-pmin))"
   ]
  },
  {
   "cell_type": "code",
   "execution_count": 5,
   "metadata": {},
   "outputs": [],
   "source": [
    "lmax=data.loc[:,'lotsize'].max()\n",
    "lmin=data.loc[:,'lotsize'].min()\n",
    "data.loc[:,'lotsize']=data.loc[:,'lotsize'].apply(lambda x:(x-lmin)/(lmax-lmin))"
   ]
  },
  {
   "cell_type": "code",
   "execution_count": 6,
   "metadata": {},
   "outputs": [],
   "source": [
    "data.insert(1,\"x0\",np.ones(len(data)))"
   ]
  },
  {
   "cell_type": "code",
   "execution_count": 7,
   "metadata": {},
   "outputs": [
    {
     "data": {
      "text/html": [
       "<div>\n",
       "<style scoped>\n",
       "    .dataframe tbody tr th:only-of-type {\n",
       "        vertical-align: middle;\n",
       "    }\n",
       "\n",
       "    .dataframe tbody tr th {\n",
       "        vertical-align: top;\n",
       "    }\n",
       "\n",
       "    .dataframe thead th {\n",
       "        text-align: right;\n",
       "    }\n",
       "</style>\n",
       "<table border=\"1\" class=\"dataframe\">\n",
       "  <thead>\n",
       "    <tr style=\"text-align: right;\">\n",
       "      <th></th>\n",
       "      <th>price</th>\n",
       "      <th>x0</th>\n",
       "      <th>lotsize</th>\n",
       "      <th>bedrooms</th>\n",
       "      <th>bathrms</th>\n",
       "      <th>stories</th>\n",
       "      <th>driveway</th>\n",
       "      <th>recroom</th>\n",
       "      <th>fullbase</th>\n",
       "      <th>gashw</th>\n",
       "      <th>airco</th>\n",
       "      <th>garagepl</th>\n",
       "      <th>prefarea</th>\n",
       "    </tr>\n",
       "  </thead>\n",
       "  <tbody>\n",
       "    <tr>\n",
       "      <th>1</th>\n",
       "      <td>0.10303</td>\n",
       "      <td>1.0</td>\n",
       "      <td>0.28866</td>\n",
       "      <td>3</td>\n",
       "      <td>1</td>\n",
       "      <td>2</td>\n",
       "      <td>1</td>\n",
       "      <td>0</td>\n",
       "      <td>1</td>\n",
       "      <td>0</td>\n",
       "      <td>0</td>\n",
       "      <td>1</td>\n",
       "      <td>0</td>\n",
       "    </tr>\n",
       "  </tbody>\n",
       "</table>\n",
       "</div>"
      ],
      "text/plain": [
       "     price   x0  lotsize  bedrooms  bathrms  stories driveway recroom  \\\n",
       "1  0.10303  1.0  0.28866         3        1        2        1       0   \n",
       "\n",
       "  fullbase gashw airco  garagepl prefarea  \n",
       "1        1     0     0         1        0  "
      ]
     },
     "execution_count": 7,
     "metadata": {},
     "output_type": "execute_result"
    }
   ],
   "source": [
    "data.head(1)"
   ]
  },
  {
   "cell_type": "code",
   "execution_count": 130,
   "metadata": {},
   "outputs": [
    {
     "data": {
      "text/plain": [
       "((546, 12), (546, 1))"
      ]
     },
     "execution_count": 130,
     "metadata": {},
     "output_type": "execute_result"
    }
   ],
   "source": [
    "d=data.values\n",
    "xd,yd=d[:,1:],d[:,:1]\n",
    "m=len(d)\n",
    "n=xd.shape[1]\n",
    "tau=10\n",
    "lr=0.01\n",
    "xd.shape,yd.shape"
   ]
  },
  {
   "cell_type": "markdown",
   "metadata": {},
   "source": [
    "#### locally weighted regression"
   ]
  },
  {
   "cell_type": "code",
   "execution_count": 150,
   "metadata": {},
   "outputs": [],
   "source": [
    "def initialize_weights():\n",
    "    thetas=np.random.randn(n,1)\n",
    "    return thetas\n",
    "\n",
    "def calculateWeight(p):\n",
    "    weights=[]\n",
    "    for n in xd:\n",
    "        sum=0\n",
    "        for i in range(len(p)):\n",
    "            sqr=(p[i]-n[i])*(p[i]-n[i])\n",
    "            sum += np.exp(-sqr/2*(tau**2))\n",
    "        weights.append(sum/len(p))\n",
    "    return np.reshape(np.array(weights),newshape=(-1,1))\n",
    "\n",
    "def forward(x,w):\n",
    "    return np.dot(x,w)\n",
    "\n",
    "def diff(y,y_):\n",
    "    out=(y_- y)\n",
    "    return out\n",
    "\n",
    "def gradient(dw,x,weights):\n",
    "    return (dw*x*weights).mean()\n",
    "\n",
    "def mse(y,y_):\n",
    "    return np.mean(np.multiply(y-y_ , y-y_))\n",
    "\n",
    "def denorm(y):\n",
    "    return (y*(pmax-pmin))+pmin"
   ]
  },
  {
   "cell_type": "code",
   "execution_count": 153,
   "metadata": {},
   "outputs": [],
   "source": [
    "earr=[]#epcoch array\n",
    "larr=[]#loss array\n",
    "def train(index):\n",
    "    localpoint=xd[index]\n",
    "    thetas=initialize_weights()\n",
    "    weights=calculateWeight(localpoint)\n",
    "    weights[index]=0#don't consider localpoint for training\n",
    "    for epoch in range(100):\n",
    "        ypred=forward(xd,thetas)\n",
    "        dw=diff(yd,ypred)\n",
    "\n",
    "        earr.append(epoch)\n",
    "        larr.append(mse(yd,ypred))\n",
    "        for i in range(len(thetas)):\n",
    "            grad=gradient(dw,xd[:,i:i+1],weights)\n",
    "            thetas[i]=thetas[i] - learning_rate*grad\n",
    "    \n",
    "    return forward(localpoint.reshape(-1,12),thetas),yd[index]\n",
    "pred,test=train(100)"
   ]
  },
  {
   "cell_type": "code",
   "execution_count": 154,
   "metadata": {},
   "outputs": [
    {
     "data": {
      "text/plain": [
       "[<matplotlib.lines.Line2D at 0x10bcfb978>]"
      ]
     },
     "execution_count": 154,
     "metadata": {},
     "output_type": "execute_result"
    },
    {
     "data": {
      "image/png": "[encoded data removed]",
      "text/plain": [
       "<Figure size 432x288 with 1 Axes>"
      ]
     },
     "metadata": {},
     "output_type": "display_data"
    }
   ],
   "source": [
    "plt.plot(earr,larr)"
   ]
  },
  {
   "cell_type": "code",
   "execution_count": null,
   "metadata": {},
   "outputs": [],
   "source": []
  },
  {
   "cell_type": "code",
   "execution_count": null,
   "metadata": {},
   "outputs": [],
   "source": []
  }
 ],
 "metadata": {
  "kernelspec": {
   "display_name": "Python 3",
   "language": "python",
   "name": "python3"
  },
  "language_info": {
   "codemirror_mode": {
    "name": "ipython",
    "version": 3
   },
   "file_extension": ".py",
   "mimetype": "text/x-python",
   "name": "python",
   "nbconvert_exporter": "python",
   "pygments_lexer": "ipython3",
   "version": "3.6.5"
  }
 },
 "nbformat": 4,
 "nbformat_minor": 2
}
