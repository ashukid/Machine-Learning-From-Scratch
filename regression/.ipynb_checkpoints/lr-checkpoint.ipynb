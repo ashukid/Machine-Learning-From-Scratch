{
 "cells": [
  {
   "cell_type": "code",
   "execution_count": 170,
   "metadata": {},
   "outputs": [],
   "source": [
    "import numpy as np\n",
    "import pandas as pd\n",
    "from numpy import genfromtxt\n",
    "import matplotlib.pyplot as plt"
   ]
  },
  {
   "cell_type": "markdown",
   "metadata": {},
   "source": [
    "#### data"
   ]
  },
  {
   "cell_type": "code",
   "execution_count": 171,
   "metadata": {},
   "outputs": [],
   "source": [
    "data=pd.read_csv('data.csv',index_col=0)"
   ]
  },
  {
   "cell_type": "code",
   "execution_count": 172,
   "metadata": {},
   "outputs": [],
   "source": [
    "categorical=['driveway','recroom','fullbase','gashw','airco','prefarea']\n",
    "#converting categorical data to numerical values\n",
    "for col in categorical:\n",
    "    \n",
    "    temp=data.loc[:,col]\n",
    "    c=temp.nunique()\n",
    "    temp=temp.astype('category')\n",
    "    temp.cat.categories=np.arange(c)\n",
    "    \n",
    "    data.loc[:,col]=temp"
   ]
  },
  {
   "cell_type": "code",
   "execution_count": 173,
   "metadata": {},
   "outputs": [
    {
     "data": {
      "text/html": [
       "<div>\n",
       "<style scoped>\n",
       "    .dataframe tbody tr th:only-of-type {\n",
       "        vertical-align: middle;\n",
       "    }\n",
       "\n",
       "    .dataframe tbody tr th {\n",
       "        vertical-align: top;\n",
       "    }\n",
       "\n",
       "    .dataframe thead th {\n",
       "        text-align: right;\n",
       "    }\n",
       "</style>\n",
       "<table border=\"1\" class=\"dataframe\">\n",
       "  <thead>\n",
       "    <tr style=\"text-align: right;\">\n",
       "      <th></th>\n",
       "      <th>price</th>\n",
       "      <th>lotsize</th>\n",
       "      <th>bedrooms</th>\n",
       "      <th>bathrms</th>\n",
       "      <th>stories</th>\n",
       "      <th>driveway</th>\n",
       "      <th>recroom</th>\n",
       "      <th>fullbase</th>\n",
       "      <th>gashw</th>\n",
       "      <th>airco</th>\n",
       "      <th>garagepl</th>\n",
       "      <th>prefarea</th>\n",
       "    </tr>\n",
       "  </thead>\n",
       "  <tbody>\n",
       "    <tr>\n",
       "      <th>1</th>\n",
       "      <td>42000.0</td>\n",
       "      <td>5850</td>\n",
       "      <td>3</td>\n",
       "      <td>1</td>\n",
       "      <td>2</td>\n",
       "      <td>1</td>\n",
       "      <td>0</td>\n",
       "      <td>1</td>\n",
       "      <td>0</td>\n",
       "      <td>0</td>\n",
       "      <td>1</td>\n",
       "      <td>0</td>\n",
       "    </tr>\n",
       "    <tr>\n",
       "      <th>2</th>\n",
       "      <td>38500.0</td>\n",
       "      <td>4000</td>\n",
       "      <td>2</td>\n",
       "      <td>1</td>\n",
       "      <td>1</td>\n",
       "      <td>1</td>\n",
       "      <td>0</td>\n",
       "      <td>0</td>\n",
       "      <td>0</td>\n",
       "      <td>0</td>\n",
       "      <td>0</td>\n",
       "      <td>0</td>\n",
       "    </tr>\n",
       "    <tr>\n",
       "      <th>3</th>\n",
       "      <td>49500.0</td>\n",
       "      <td>3060</td>\n",
       "      <td>3</td>\n",
       "      <td>1</td>\n",
       "      <td>1</td>\n",
       "      <td>1</td>\n",
       "      <td>0</td>\n",
       "      <td>0</td>\n",
       "      <td>0</td>\n",
       "      <td>0</td>\n",
       "      <td>0</td>\n",
       "      <td>0</td>\n",
       "    </tr>\n",
       "    <tr>\n",
       "      <th>4</th>\n",
       "      <td>60500.0</td>\n",
       "      <td>6650</td>\n",
       "      <td>3</td>\n",
       "      <td>1</td>\n",
       "      <td>2</td>\n",
       "      <td>1</td>\n",
       "      <td>1</td>\n",
       "      <td>0</td>\n",
       "      <td>0</td>\n",
       "      <td>0</td>\n",
       "      <td>0</td>\n",
       "      <td>0</td>\n",
       "    </tr>\n",
       "    <tr>\n",
       "      <th>5</th>\n",
       "      <td>61000.0</td>\n",
       "      <td>6360</td>\n",
       "      <td>2</td>\n",
       "      <td>1</td>\n",
       "      <td>1</td>\n",
       "      <td>1</td>\n",
       "      <td>0</td>\n",
       "      <td>0</td>\n",
       "      <td>0</td>\n",
       "      <td>0</td>\n",
       "      <td>0</td>\n",
       "      <td>0</td>\n",
       "    </tr>\n",
       "  </tbody>\n",
       "</table>\n",
       "</div>"
      ],
      "text/plain": [
       "     price  lotsize  bedrooms  bathrms  stories driveway recroom fullbase  \\\n",
       "1  42000.0     5850         3        1        2        1       0        1   \n",
       "2  38500.0     4000         2        1        1        1       0        0   \n",
       "3  49500.0     3060         3        1        1        1       0        0   \n",
       "4  60500.0     6650         3        1        2        1       1        0   \n",
       "5  61000.0     6360         2        1        1        1       0        0   \n",
       "\n",
       "  gashw airco  garagepl prefarea  \n",
       "1     0     0         1        0  \n",
       "2     0     0         0        0  \n",
       "3     0     0         0        0  \n",
       "4     0     0         0        0  \n",
       "5     0     0         0        0  "
      ]
     },
     "execution_count": 173,
     "metadata": {},
     "output_type": "execute_result"
    }
   ],
   "source": [
    "data.head()"
   ]
  },
  {
   "cell_type": "code",
   "execution_count": 174,
   "metadata": {},
   "outputs": [],
   "source": [
    "# plt.figure(figsize=(16,15))\n",
    "# for i in range(2,12):\n",
    "#     plt.subplot(4,4,i-1)\n",
    "#     plt.xlabel(data.columns[i])\n",
    "#     plt.hist(data.iloc[:,i])\n",
    "\n",
    "# plt.subplot(4,4,11)\n",
    "# plt.hist(data.iloc[:,1])\n",
    "# plt.xlabel(data.columns[1])\n",
    "# plt.show()"
   ]
  },
  {
   "cell_type": "code",
   "execution_count": 175,
   "metadata": {},
   "outputs": [],
   "source": [
    "# plt.figure(figsize=(40,40))\n",
    "# for i in range(2,12):\n",
    "#     plt.subplot(4,4,i-1)\n",
    "#     plt.xlabel(data.columns[i])\n",
    "#     plt.scatter(data.iloc[:,0],data.iloc[:,1],c=data.iloc[:,i])\n",
    "#     plt.colorbar()"
   ]
  },
  {
   "cell_type": "markdown",
   "metadata": {},
   "source": [
    "##### normalization"
   ]
  },
  {
   "cell_type": "code",
   "execution_count": 176,
   "metadata": {},
   "outputs": [],
   "source": [
    "pmax=data.loc[:,'price'].max()\n",
    "pmin=data.loc[:,'price'].min()\n",
    "data.loc[:,'price']=data.loc[:,'price'].apply(lambda x:(x-pmin)/(pmax-pmin))"
   ]
  },
  {
   "cell_type": "code",
   "execution_count": 177,
   "metadata": {},
   "outputs": [],
   "source": [
    "lmax=data.loc[:,'lotsize'].max()\n",
    "lmin=data.loc[:,'lotsize'].min()\n",
    "data.loc[:,'lotsize']=data.loc[:,'lotsize'].apply(lambda x:(x-lmin)/(lmax-lmin))"
   ]
  },
  {
   "cell_type": "code",
   "execution_count": 178,
   "metadata": {},
   "outputs": [],
   "source": [
    "data.insert(1,\"x0\",np.ones(len(data)))"
   ]
  },
  {
   "cell_type": "code",
   "execution_count": 179,
   "metadata": {},
   "outputs": [
    {
     "data": {
      "text/html": [
       "<div>\n",
       "<style scoped>\n",
       "    .dataframe tbody tr th:only-of-type {\n",
       "        vertical-align: middle;\n",
       "    }\n",
       "\n",
       "    .dataframe tbody tr th {\n",
       "        vertical-align: top;\n",
       "    }\n",
       "\n",
       "    .dataframe thead th {\n",
       "        text-align: right;\n",
       "    }\n",
       "</style>\n",
       "<table border=\"1\" class=\"dataframe\">\n",
       "  <thead>\n",
       "    <tr style=\"text-align: right;\">\n",
       "      <th></th>\n",
       "      <th>price</th>\n",
       "      <th>x0</th>\n",
       "      <th>lotsize</th>\n",
       "      <th>bedrooms</th>\n",
       "      <th>bathrms</th>\n",
       "      <th>stories</th>\n",
       "      <th>driveway</th>\n",
       "      <th>recroom</th>\n",
       "      <th>fullbase</th>\n",
       "      <th>gashw</th>\n",
       "      <th>airco</th>\n",
       "      <th>garagepl</th>\n",
       "      <th>prefarea</th>\n",
       "    </tr>\n",
       "  </thead>\n",
       "  <tbody>\n",
       "    <tr>\n",
       "      <th>1</th>\n",
       "      <td>0.10303</td>\n",
       "      <td>1.0</td>\n",
       "      <td>0.28866</td>\n",
       "      <td>3</td>\n",
       "      <td>1</td>\n",
       "      <td>2</td>\n",
       "      <td>1</td>\n",
       "      <td>0</td>\n",
       "      <td>1</td>\n",
       "      <td>0</td>\n",
       "      <td>0</td>\n",
       "      <td>1</td>\n",
       "      <td>0</td>\n",
       "    </tr>\n",
       "  </tbody>\n",
       "</table>\n",
       "</div>"
      ],
      "text/plain": [
       "     price   x0  lotsize  bedrooms  bathrms  stories driveway recroom  \\\n",
       "1  0.10303  1.0  0.28866         3        1        2        1       0   \n",
       "\n",
       "  fullbase gashw airco  garagepl prefarea  \n",
       "1        1     0     0         1        0  "
      ]
     },
     "execution_count": 179,
     "metadata": {},
     "output_type": "execute_result"
    }
   ],
   "source": [
    "data.head(1)"
   ]
  },
  {
   "cell_type": "code",
   "execution_count": 180,
   "metadata": {},
   "outputs": [],
   "source": [
    "dataset=data.values"
   ]
  },
  {
   "cell_type": "code",
   "execution_count": 181,
   "metadata": {},
   "outputs": [],
   "source": [
    "split_ratio=0.7\n",
    "tot_data=dataset.shape[0]"
   ]
  },
  {
   "cell_type": "code",
   "execution_count": 182,
   "metadata": {},
   "outputs": [],
   "source": [
    "xtrain=dataset[:int(tot_data*split_ratio),1:]\n",
    "ytrain=dataset[:int(tot_data*split_ratio),:1]\n",
    "\n",
    "xtest=dataset[int(tot_data*split_ratio):,1:]\n",
    "ytest=dataset[int(tot_data*split_ratio):,:1]"
   ]
  },
  {
   "cell_type": "code",
   "execution_count": 183,
   "metadata": {},
   "outputs": [
    {
     "data": {
      "text/plain": [
       "((382, 12), (382, 1), (164, 12), (164, 1))"
      ]
     },
     "execution_count": 183,
     "metadata": {},
     "output_type": "execute_result"
    }
   ],
   "source": [
    "xtrain.shape,ytrain.shape,xtest.shape,ytest.shape"
   ]
  },
  {
   "cell_type": "markdown",
   "metadata": {},
   "source": [
    "#### gradient descent"
   ]
  },
  {
   "cell_type": "code",
   "execution_count": 184,
   "metadata": {},
   "outputs": [],
   "source": [
    "inputs=xtrain.shape[1]\n",
    "outputs=ytrain.shape[1]\n",
    "learning_rate=0.01"
   ]
  },
  {
   "cell_type": "code",
   "execution_count": 185,
   "metadata": {},
   "outputs": [
    {
     "data": {
      "text/plain": [
       "(12, 1)"
      ]
     },
     "execution_count": 185,
     "metadata": {},
     "output_type": "execute_result"
    }
   ],
   "source": [
    "inputs,outputs"
   ]
  },
  {
   "cell_type": "code",
   "execution_count": 186,
   "metadata": {},
   "outputs": [
    {
     "data": {
      "text/plain": [
       "(12, 1)"
      ]
     },
     "execution_count": 186,
     "metadata": {},
     "output_type": "execute_result"
    }
   ],
   "source": [
    "w=np.random.random(size=(inputs,outputs))\n",
    "w.shape"
   ]
  },
  {
   "cell_type": "code",
   "execution_count": 187,
   "metadata": {},
   "outputs": [],
   "source": [
    "def forward(x):\n",
    "    return np.dot(x,w)\n",
    "\n",
    "def diff(y,y_):\n",
    "    out=(y_- y)\n",
    "    return out\n",
    "\n",
    "def gradient(dw,x):\n",
    "    return (dw*x).mean()\n",
    "\n",
    "def mse(y,y_):\n",
    "    return np.mean(np.multiply(y-y_ , y-y_))"
   ]
  },
  {
   "cell_type": "code",
   "execution_count": 188,
   "metadata": {},
   "outputs": [
    {
     "name": "stdout",
     "output_type": "stream",
     "text": [
      "Epoch : 0\n",
      "Epoch : 10\n",
      "Epoch : 20\n",
      "Epoch : 30\n",
      "Epoch : 40\n",
      "Epoch : 50\n",
      "Epoch : 60\n",
      "Epoch : 70\n",
      "Epoch : 80\n",
      "Epoch : 90\n",
      "Epoch : 100\n",
      "Epoch : 110\n",
      "Epoch : 120\n",
      "Epoch : 130\n",
      "Epoch : 140\n",
      "Epoch : 150\n",
      "Epoch : 160\n",
      "Epoch : 170\n",
      "Epoch : 180\n",
      "Epoch : 190\n",
      "Epoch : 200\n",
      "Epoch : 210\n",
      "Epoch : 220\n",
      "Epoch : 230\n",
      "Epoch : 240\n",
      "Epoch : 250\n",
      "Epoch : 260\n",
      "Epoch : 270\n",
      "Epoch : 280\n",
      "Epoch : 290\n",
      "Epoch : 300\n",
      "Epoch : 310\n",
      "Epoch : 320\n",
      "Epoch : 330\n",
      "Epoch : 340\n",
      "Epoch : 350\n",
      "Epoch : 360\n",
      "Epoch : 370\n",
      "Epoch : 380\n",
      "Epoch : 390\n",
      "Epoch : 400\n",
      "Epoch : 410\n",
      "Epoch : 420\n",
      "Epoch : 430\n",
      "Epoch : 440\n",
      "Epoch : 450\n",
      "Epoch : 460\n",
      "Epoch : 470\n",
      "Epoch : 480\n",
      "Epoch : 490\n",
      "Epoch : 500\n",
      "Epoch : 510\n",
      "Epoch : 520\n",
      "Epoch : 530\n",
      "Epoch : 540\n",
      "Epoch : 550\n",
      "Epoch : 560\n",
      "Epoch : 570\n",
      "Epoch : 580\n",
      "Epoch : 590\n",
      "Epoch : 600\n",
      "Epoch : 610\n",
      "Epoch : 620\n",
      "Epoch : 630\n",
      "Epoch : 640\n",
      "Epoch : 650\n",
      "Epoch : 660\n",
      "Epoch : 670\n",
      "Epoch : 680\n",
      "Epoch : 690\n",
      "Epoch : 700\n",
      "Epoch : 710\n",
      "Epoch : 720\n",
      "Epoch : 730\n",
      "Epoch : 740\n",
      "Epoch : 750\n",
      "Epoch : 760\n",
      "Epoch : 770\n",
      "Epoch : 780\n",
      "Epoch : 790\n",
      "Epoch : 800\n",
      "Epoch : 810\n",
      "Epoch : 820\n",
      "Epoch : 830\n",
      "Epoch : 840\n",
      "Epoch : 850\n",
      "Epoch : 860\n",
      "Epoch : 870\n",
      "Epoch : 880\n",
      "Epoch : 890\n",
      "Epoch : 900\n",
      "Epoch : 910\n",
      "Epoch : 920\n",
      "Epoch : 930\n",
      "Epoch : 940\n",
      "Epoch : 950\n",
      "Epoch : 960\n",
      "Epoch : 970\n",
      "Epoch : 980\n",
      "Epoch : 990\n"
     ]
    }
   ],
   "source": [
    " def train(apply_regularisation=0):\n",
    "    earr=[]#epcoch array\n",
    "    larr=[]#loss array\n",
    "    for epoch in range(1000):\n",
    "        ypred=forward(xtrain)\n",
    "        dw=diff(ytrain,ypred)\n",
    "\n",
    "        earr.append(epoch)\n",
    "        larr.append(mse(ytrain,ypred))\n",
    "        for i in range(inputs):\n",
    "            grad=gradient(dw,xtrain[:,i:i+1])\n",
    "            if(apply_regularisation):\n",
    "                r=(100*w[i])/xtrain.shape[0]\n",
    "                grad+=r\n",
    "                \n",
    "            w[i]=w[i] - learning_rate*grad\n",
    "\n",
    "        if(epoch%10==0):\n",
    "            print(\"Epoch : {}\".format(epoch))\n",
    "\n",
    "train(apply_regularisation=1)"
   ]
  },
  {
   "cell_type": "code",
   "execution_count": 189,
   "metadata": {},
   "outputs": [
    {
     "data": {
      "text/plain": [
       "[<matplotlib.lines.Line2D at 0x10d0db438>]"
      ]
     },
     "execution_count": 189,
     "metadata": {},
     "output_type": "execute_result"
    },
    {
     "data": {
      "image/png": "[encoded data removed]",
      "text/plain": [
       "<Figure size 432x288 with 1 Axes>"
      ]
     },
     "metadata": {},
     "output_type": "display_data"
    }
   ],
   "source": [
    "plt.plot(earr,larr)"
   ]
  },
  {
   "cell_type": "code",
   "execution_count": 190,
   "metadata": {},
   "outputs": [
    {
     "name": "stdout",
     "output_type": "stream",
     "text": [
      "[1.0 0.3556701030927835 3 1 1 1 1 1 0 1 0 1]\n",
      "Predicted: [79239.61693767185] Test: [77500.0]\n",
      "Error : 0.009724372480895646\n"
     ]
    }
   ],
   "source": [
    "def denorm(y):\n",
    "    return (y*(pmax-pmin))+pmin\n",
    "    return y\n",
    "\n",
    "\n",
    "def test():\n",
    "    ypred=forward(xtest)\n",
    "    index=20\n",
    "    print(xtest[20])\n",
    "    print(\"Predicted: {} Test: {}\".format(denorm(ypred[index]),denorm(ytest[index])))\n",
    "    e = mse(ytest,ypred)\n",
    "    print(\"Error : {}\".format(e))\n",
    "test()"
   ]
  },
  {
   "cell_type": "code",
   "execution_count": 191,
   "metadata": {},
   "outputs": [
    {
     "data": {
      "text/plain": [
       "array([[-0.01313691],\n",
       "       [ 0.05192051],\n",
       "       [ 0.01734565],\n",
       "       [ 0.04137643],\n",
       "       [ 0.03415554],\n",
       "       [ 0.0278661 ],\n",
       "       [ 0.03652046],\n",
       "       [ 0.02444596],\n",
       "       [ 0.02422623],\n",
       "       [ 0.03565786],\n",
       "       [ 0.0390475 ],\n",
       "       [ 0.07133599]])"
      ]
     },
     "execution_count": 191,
     "metadata": {},
     "output_type": "execute_result"
    }
   ],
   "source": [
    "w"
   ]
  },
  {
   "cell_type": "code",
   "execution_count": null,
   "metadata": {},
   "outputs": [],
   "source": []
  },
  {
   "cell_type": "code",
   "execution_count": null,
   "metadata": {},
   "outputs": [],
   "source": []
  },
  {
   "cell_type": "code",
   "execution_count": null,
   "metadata": {},
   "outputs": [],
   "source": []
  }
 ],
 "metadata": {
  "kernelspec": {
   "display_name": "Python 3",
   "language": "python",
   "name": "python3"
  },
  "language_info": {
   "codemirror_mode": {
    "name": "ipython",
    "version": 3
   },
   "file_extension": ".py",
   "mimetype": "text/x-python",
   "name": "python",
   "nbconvert_exporter": "python",
   "pygments_lexer": "ipython3",
   "version": "3.6.5"
  }
 },
 "nbformat": 4,
 "nbformat_minor": 2
}
