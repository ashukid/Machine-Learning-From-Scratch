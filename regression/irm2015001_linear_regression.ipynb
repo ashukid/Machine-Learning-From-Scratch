{
 "cells": [
  {
   "cell_type": "code",
   "execution_count": 129,
   "metadata": {},
   "outputs": [],
   "source": [
    "import numpy as np\n",
    "import pandas as pd\n",
    "from numpy import genfromtxt\n",
    "import matplotlib.pyplot as plt"
   ]
  },
  {
   "cell_type": "code",
   "execution_count": 130,
   "metadata": {},
   "outputs": [],
   "source": [
    "data=pd.read_csv('data.csv',index_col=0)"
   ]
  },
  {
   "cell_type": "code",
   "execution_count": 131,
   "metadata": {},
   "outputs": [],
   "source": [
    "categorical=['driveway','recroom','fullbase','gashw','airco','prefarea']\n",
    "#converting categorical data to numerical values\n",
    "for col in categorical:\n",
    "    data[col]=data[col].replace(data[col].unique(),data[col].nunique())"
   ]
  },
  {
   "cell_type": "code",
   "execution_count": 132,
   "metadata": {},
   "outputs": [],
   "source": [
    "pmax=data.loc[:,'price'].max()\n",
    "pmin=data.loc[:,'price'].min()\n",
    "data.loc[:,'price']=data.loc[:,'price'].apply(lambda x:(x-pmin)/(pmax-pmin))"
   ]
  },
  {
   "cell_type": "code",
   "execution_count": 133,
   "metadata": {},
   "outputs": [],
   "source": [
    "lmax=data.loc[:,'lotsize'].max()\n",
    "lmin=data.loc[:,'lotsize'].min()\n",
    "data.loc[:,'lotsize']=data.loc[:,'lotsize'].apply(lambda x:(x-lmin)/(lmax-lmin))"
   ]
  },
  {
   "cell_type": "code",
   "execution_count": 134,
   "metadata": {},
   "outputs": [],
   "source": [
    "data.insert(1,\"x0\",np.ones(len(data)))"
   ]
  },
  {
   "cell_type": "code",
   "execution_count": 136,
   "metadata": {},
   "outputs": [
    {
     "data": {
      "text/plain": [
       "((267, 12), (267, 1), (279, 12), (279, 1))"
      ]
     },
     "execution_count": 136,
     "metadata": {},
     "output_type": "execute_result"
    }
   ],
   "source": [
    "dataset=data.values\n",
    "split_ratio=0.7\n",
    "\n",
    "xtrain=dataset[:int(m*split_ratio),1:]\n",
    "ytrain=dataset[:int(m*split_ratio),:1]\n",
    "\n",
    "xtest=dataset[int(m*split_ratio):,1:]\n",
    "ytest=dataset[int(m*split_ratio):,:1]\n",
    "\n",
    "m=xtrain.shape[0]\n",
    "n=xtrain.shape[1]\n",
    "o=ytrain.shape[1]\n",
    "lr=0.001\n",
    "\n",
    "xtrain.shape,ytrain.shape,xtest.shape,ytest.shape"
   ]
  },
  {
   "cell_type": "code",
   "execution_count": 137,
   "metadata": {},
   "outputs": [
    {
     "data": {
      "text/plain": [
       "(12, 1)"
      ]
     },
     "execution_count": 137,
     "metadata": {},
     "output_type": "execute_result"
    }
   ],
   "source": [
    "w=np.random.randn(n,o)\n",
    "w.shape"
   ]
  },
  {
   "cell_type": "code",
   "execution_count": 146,
   "metadata": {},
   "outputs": [],
   "source": [
    "def forward(x):\n",
    "    return np.matmul(x,w)\n",
    "\n",
    "def diff(y,y_):\n",
    "    out=(y_- y)\n",
    "    return out\n",
    "\n",
    "def gradient(dw,x):\n",
    "    return (dw*x).mean()\n",
    "\n",
    "def mse(y,y_):\n",
    "    return np.mean(np.multiply(y-y_ , y-y_))"
   ]
  },
  {
   "cell_type": "code",
   "execution_count": 147,
   "metadata": {},
   "outputs": [],
   "source": [
    "earr=[]#epcoch array\n",
    "larr=[]#loss array \n",
    "def train(apply_regularisation=0):\n",
    "    for epoch in range(1000):\n",
    "        ypred=forward(xtrain)\n",
    "        dw=diff(ytrain,ypred)\n",
    "\n",
    "        earr.append(epoch)\n",
    "        larr.append(mse(ytrain,ypred))\n",
    "        for i in range(inputs):\n",
    "            grad=gradient(dw,xtrain[:,i:i+1])\n",
    "            if(apply_regularisation):\n",
    "                r=(100*w[i])/xtrain.shape[0]\n",
    "                grad+=r\n",
    "                \n",
    "            w[i]=w[i] - learning_rate*grad\n",
    "\n",
    "#         if(epoch%10==0):\n",
    "#             print(\"Epoch : {}\".format(epoch))\n",
    "\n",
    "train(apply_regularisation=0)"
   ]
  },
  {
   "cell_type": "code",
   "execution_count": 141,
   "metadata": {},
   "outputs": [
    {
     "data": {
      "text/plain": [
       "[<matplotlib.lines.Line2D at 0x10ed298d0>]"
      ]
     },
     "execution_count": 141,
     "metadata": {},
     "output_type": "execute_result"
    },
    {
     "data": {
      "image/png": "[encoded data removed]",
      "text/plain": [
       "<Figure size 432x288 with 1 Axes>"
      ]
     },
     "metadata": {},
     "output_type": "display_data"
    }
   ],
   "source": [
    "plt.plot(earr,larr)"
   ]
  },
  {
   "cell_type": "code",
   "execution_count": 145,
   "metadata": {},
   "outputs": [
    {
     "name": "stdout",
     "output_type": "stream",
     "text": [
      "Error : 716483932.1449647\n"
     ]
    }
   ],
   "source": [
    "def denorm(y):\n",
    "    return (y*(pmax-pmin))+pmin\n",
    "    return y\n",
    "\n",
    "\n",
    "ypred=forward(xtest)\n",
    "ypred,ytest=denorm(ypred),denorm(ytest)\n",
    "\n",
    "e = mse(ytest,ypred)\n",
    "print(\"Error : {}\".format(e))"
   ]
  },
  {
   "cell_type": "code",
   "execution_count": null,
   "metadata": {},
   "outputs": [],
   "source": []
  },
  {
   "cell_type": "code",
   "execution_count": null,
   "metadata": {},
   "outputs": [],
   "source": []
  },
  {
   "cell_type": "code",
   "execution_count": null,
   "metadata": {},
   "outputs": [],
   "source": []
  },
  {
   "cell_type": "code",
   "execution_count": null,
   "metadata": {},
   "outputs": [],
   "source": []
  }
 ],
 "metadata": {
  "kernelspec": {
   "display_name": "Python 3",
   "language": "python",
   "name": "python3"
  },
  "language_info": {
   "codemirror_mode": {
    "name": "ipython",
    "version": 3
   },
   "file_extension": ".py",
   "mimetype": "text/x-python",
   "name": "python",
   "nbconvert_exporter": "python",
   "pygments_lexer": "ipython3",
   "version": "3.6.5"
  }
 },
 "nbformat": 4,
 "nbformat_minor": 2
}
