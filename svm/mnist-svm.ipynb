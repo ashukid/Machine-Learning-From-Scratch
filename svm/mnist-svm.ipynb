{
 "cells": [
  {
   "cell_type": "code",
   "execution_count": 1,
   "metadata": {},
   "outputs": [],
   "source": [
    "import torch\n",
    "from torchvision import datasets,transforms\n",
    "\n",
    "from SVM import SVM\n",
    "\n",
    "import numpy as np\n",
    "import matplotlib.pyplot as plt\n",
    "\n",
    "def flatten(x):\n",
    "    return np.reshape(x,(-1,28*28))\n",
    "\n",
    "def show_image(im):\n",
    "    plt.imshow(im.reshape(28,28))\n",
    "    plt.show()"
   ]
  },
  {
   "cell_type": "code",
   "execution_count": 2,
   "metadata": {},
   "outputs": [
    {
     "name": "stderr",
     "output_type": "stream",
     "text": [
      "/usr/local/lib/python3.7/site-packages/torchvision/datasets/mnist.py:53: UserWarning: train_data has been renamed data\n",
      "  warnings.warn(\"train_data has been renamed data\")\n",
      "/usr/local/lib/python3.7/site-packages/torchvision/datasets/mnist.py:43: UserWarning: train_labels has been renamed targets\n",
      "  warnings.warn(\"train_labels has been renamed targets\")\n"
     ]
    }
   ],
   "source": [
    "mnist=datasets.MNIST(root=\"./mnist/\",download=True,train=True)\n",
    "xd,yd=flatten(mnist.train_data.to(torch.int64).numpy()),mnist.train_labels.numpy()"
   ]
  },
  {
   "cell_type": "code",
   "execution_count": 3,
   "metadata": {},
   "outputs": [],
   "source": [
    "# xdata=xd[np.logical_or(yd==3,yd==8)]\n",
    "# ydata=yd[np.logical_or(yd==3,yd==8)]\n",
    "\n",
    "\n",
    "xd1=xd[yd==3]\n",
    "xd2=xd[yd==8]\n",
    "yd1=yd[yd==3]\n",
    "yd2=yd[yd==8]\n",
    "\n",
    "train_points=250\n",
    "test_points=10\n",
    "\n",
    "xdata=np.vstack((xd1[:train_points,:],xd2[:train_points,:]))\n",
    "xt = np.vstack((xd1[train_points:test_points,:] , xd2[train_points:test_points,:]))\n",
    "\n",
    "ydata=np.hstack((yd1[:train_points],yd2[:train_points]))\n",
    "yt = np.hstack((yd1[train_points:test_points] , yd2[train_points:test_points]))\n",
    "\n",
    "\n",
    "idx3=np.where(ydata==3)\n",
    "ydata[idx3]=-1\n",
    "idx8=np.where(ydata==8)\n",
    "ydata[idx8]=1\n",
    "\n",
    "idx=np.arange(xdata.shape[0])\n",
    "np.random.shuffle(idx)\n",
    "xdata=xdata[idx]\n",
    "ydata=ydata[idx]"
   ]
  },
  {
   "cell_type": "code",
   "execution_count": 4,
   "metadata": {},
   "outputs": [
    {
     "name": "stdout",
     "output_type": "stream",
     "text": [
      "(500, 784) (500,)\n"
     ]
    }
   ],
   "source": [
    "X, y = xdata[:,:], ydata[:]\n",
    "print(X.shape,y.shape)"
   ]
  },
  {
   "cell_type": "code",
   "execution_count": 5,
   "metadata": {},
   "outputs": [
    {
     "name": "stdout",
     "output_type": "stream",
     "text": [
      "errors : 0,0 epoch : 1\n",
      "errors : 0,0 epoch : 2\n",
      "errors : 0,0 epoch : 3\n",
      "errors : 0,0 epoch : 4\n",
      "errors : 0,0 epoch : 5\n",
      "errors : 0,0 epoch : 6\n",
      "errors : 0,0 epoch : 7\n",
      "errors : 0,0 epoch : 8\n",
      "errors : 0,0 epoch : 9\n",
      "Iteration number exceeded the max of 10 iterations\n"
     ]
    }
   ],
   "source": [
    "model = SVM(kernel_type='linear')\n",
    "support_vectors, iterations = model.fit(X, y)"
   ]
  },
  {
   "cell_type": "code",
   "execution_count": 9,
   "metadata": {},
   "outputs": [],
   "source": [
    "ypred = model.predict(xt)"
   ]
  },
  {
   "cell_type": "code",
   "execution_count": 10,
   "metadata": {},
   "outputs": [],
   "source": [
    " def calc_acc(yt, y_hat):\n",
    "    idx = np.where(y_hat == 1)\n",
    "    TP = np.sum(y_hat[idx] == y[idx])\n",
    "    idx = np.where(y_hat == -1)\n",
    "    TN = np.sum(y_hat[idx] == y[idx])\n",
    "    return float(TP + TN)/len(y)"
   ]
  },
  {
   "cell_type": "code",
   "execution_count": 11,
   "metadata": {},
   "outputs": [
    {
     "data": {
      "text/plain": [
       "0.0"
      ]
     },
     "execution_count": 11,
     "metadata": {},
     "output_type": "execute_result"
    }
   ],
   "source": [
    "calc_acc(ydata,ypred)"
   ]
  },
  {
   "cell_type": "code",
   "execution_count": null,
   "metadata": {},
   "outputs": [],
   "source": []
  },
  {
   "cell_type": "code",
   "execution_count": null,
   "metadata": {},
   "outputs": [],
   "source": []
  },
  {
   "cell_type": "code",
   "execution_count": null,
   "metadata": {},
   "outputs": [],
   "source": []
  }
 ],
 "metadata": {
  "kernelspec": {
   "display_name": "Python 3",
   "language": "python",
   "name": "python3"
  },
  "language_info": {
   "codemirror_mode": {
    "name": "ipython",
    "version": 3
   },
   "file_extension": ".py",
   "mimetype": "text/x-python",
   "name": "python",
   "nbconvert_exporter": "python",
   "pygments_lexer": "ipython3",
   "version": "3.7.3"
  }
 },
 "nbformat": 4,
 "nbformat_minor": 2
}
