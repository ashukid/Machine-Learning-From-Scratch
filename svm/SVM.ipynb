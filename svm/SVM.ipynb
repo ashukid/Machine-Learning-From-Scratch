{
 "cells": [
  {
   "cell_type": "code",
   "execution_count": 1,
   "metadata": {},
   "outputs": [],
   "source": [
    "import torch\n",
    "from torchvision import datasets\n",
    "import numpy as np\n",
    "import random\n",
    "import matplotlib.pyplot as plt\n",
    "from math import exp"
   ]
  },
  {
   "cell_type": "code",
   "execution_count": 2,
   "metadata": {},
   "outputs": [],
   "source": [
    "data = datasets.MNIST(root = './' , download=False , train=True)"
   ]
  },
  {
   "cell_type": "code",
   "execution_count": 3,
   "metadata": {},
   "outputs": [],
   "source": [
    "X = data.data.to(torch.int64).numpy()\n",
    "Y = data.targets.to(torch.int64).numpy()"
   ]
  },
  {
   "cell_type": "code",
   "execution_count": 6,
   "metadata": {},
   "outputs": [],
   "source": [
    "X = X[np.logical_or(Y == 3 , Y == 8)]\n",
    "Y = Y[np.logical_or(Y == 3 , Y == 8)]\n",
    "x_train = X[0 : 600 , : , :] \n",
    "y_train = Y[0 : 600]\n",
    "x_validation = X[600 : 800 , :]\n",
    "y_validation = Y[600 : 800]\n",
    "x_test = X[800 : 1000 , :]\n",
    "y_test = Y[800 : 1000]\n",
    "X.shape , Y.shape , x_train.shape ,y_train.shape\n",
    "x_train = x_train.reshape(600 , 28 * 28)\n",
    "x_validation = x_validation.reshape(200 , 28 * 28)\n",
    "x_test = x_test.reshape(200 , 28 * 28)\n",
    "img = x_train[0].reshape(28 , 28)\n",
    "c = 10\n",
    "ids = np.where(y_train == 8)\n",
    "y_train[ids] = 1\n",
    "ids = np.where(y_train == 3)\n",
    "y_train[ids] = -1\n",
    "ids = np.where(y_validation == 8)\n",
    "y_validation[ids] = 1\n",
    "ids = np.where(y_validation == 3)\n",
    "y_validation[ids] = -1\n",
    "ids = np.where(y_test== 8)\n",
    "y_test[ids] = 1\n",
    "ids = np.where(y_test == 3)\n",
    "y_test[ids] = -1"
   ]
  },
  {
   "cell_type": "code",
   "execution_count": 7,
   "metadata": {},
   "outputs": [
    {
     "data": {
      "text/plain": [
       "(<matplotlib.axes._subplots.AxesSubplot at 0x119c20048>,\n",
       " <matplotlib.image.AxesImage at 0x11e98c080>)"
      ]
     },
     "execution_count": 7,
     "metadata": {},
     "output_type": "execute_result"
    },
    {
     "data": {
      "image/png": "[encoded data removed]",
      "text/plain": [
       "<Figure size 432x288 with 2 Axes>"
      ]
     },
     "metadata": {
      "needs_background": "light"
     },
     "output_type": "display_data"
    }
   ],
   "source": [
    "plt.subplot(121) , plt.imshow(img , 'gray')\n",
    "plt.subplot(122) , plt.imshow(X[16] , 'gray')"
   ]
  },
  {
   "cell_type": "code",
   "execution_count": 8,
   "metadata": {},
   "outputs": [],
   "source": [
    "def selectRandom(l , h , i):\n",
    "    while(True):\n",
    "        j = random.randint(l , h)\n",
    "        if i != j:\n",
    "            return j"
   ]
  },
  {
   "cell_type": "code",
   "execution_count": 9,
   "metadata": {},
   "outputs": [],
   "source": [
    "def dataPoints(i , j):\n",
    "    return x_train[i , : ] , y_train[i] , x_train[j , :] , y_train[j]"
   ]
  },
  {
   "cell_type": "code",
   "execution_count": 10,
   "metadata": {},
   "outputs": [],
   "source": [
    "def kernelfunc(x , y):\n",
    "    return np.dot(x , y.T)"
   ]
  },
  {
   "cell_type": "code",
   "execution_count": 11,
   "metadata": {},
   "outputs": [],
   "source": [
    "def RBFkernel(x , y):\n",
    "    gamma = 1 / (28 * 28)\n",
    "    return np.exp(-gamma * (x - y)**2)"
   ]
  },
  {
   "cell_type": "code",
   "execution_count": 12,
   "metadata": {},
   "outputs": [],
   "source": [
    "def alphaBounds(a1 , a2 , y1 ,y2 , c):\n",
    "    if y1 != y2:\n",
    "        return max(-a1 + a2 , 0) , min(c , c - a1 + a2)\n",
    "    else:\n",
    "        return max(a1 + a2 - c , 0) , min(c , a1 + a2)"
   ]
  },
  {
   "cell_type": "code",
   "execution_count": 13,
   "metadata": {},
   "outputs": [],
   "source": [
    "def calculate_w(alpha , x_train , y_train):\n",
    "    return np.dot(x_train.T , np.multiply(alpha , y_train))"
   ]
  },
  {
   "cell_type": "code",
   "execution_count": 14,
   "metadata": {},
   "outputs": [],
   "source": [
    "def calculate_b(w , x_train , y_train):\n",
    "    b = y_train - np.dot(w.T , x_train.T)\n",
    "    return np.mean(b)"
   ]
  },
  {
   "cell_type": "code",
   "execution_count": 15,
   "metadata": {},
   "outputs": [],
   "source": [
    "def calculateError(x , y , w , b):\n",
    "    t = np.sign((np.dot(w.T , x.T) + b)).astype(int)\n",
    "    return t - y"
   ]
  },
  {
   "cell_type": "code",
   "execution_count": 16,
   "metadata": {},
   "outputs": [],
   "source": [
    "tparr,fparr=[],[]\n",
    "def fit():\n",
    "    alpha = np.zeros(x_train.shape[0])\n",
    "    epochs = 0\n",
    "    while(True): #run until convergence\n",
    "        for i in range(0 , x_train.shape[0]):\n",
    "            j = selectRandom(0 , x_train.shape[0] - 1 , i) # selecting j randomly\n",
    "            xi , yi , xj , yj = dataPoints(i , j)\n",
    "            kij =  2 * kernelfunc(xi, xj) - kernelfunc(xi , xi) - kernelfunc(xj , xj)\n",
    "            if kij == 0:\n",
    "                continue\n",
    "            alpha_i , alpha_j = alpha[i] , alpha[j]\n",
    "            L , H = alphaBounds(alpha_i , alpha_j , yi , yj , c)\n",
    "            w = calculate_w(alpha , x_train , y_train)\n",
    "            b = calculate_b(w , x_train , y_train)\n",
    "            Ei = calculateError(xi , yi , w , b)\n",
    "            Ej = calculateError(xj , yj , w , b)\n",
    "            alpha[j] = alpha_j - float((yj * (Ei - Ej)) / kij)\n",
    "            alpha[j] = max(L  , alpha[j])\n",
    "            alpha[j] = min(H , alpha[j])\n",
    "            alpha[i] = alpha_i + yi * yj * (alpha_j - alpha[j])\n",
    "            b1 = b - Ei - yi*kernelfunc(xi , xi)*(alpha[i] - alpha_i) - yj*kernelfunc(xi , xj)*(alpha[j] - alpha_j)\n",
    "            b2 = b - Ej - yi*kernelfunc(xi , xj)*(alpha[i] - alpha_i) - yj*kernelfunc(xj , xj)*(alpha[j] - alpha_j)\n",
    "            if b1 > 0 and b1 < c:\n",
    "                b = b1\n",
    "            elif b2 > 0 and b2 < c:\n",
    "                b = b2\n",
    "            else:\n",
    "                b = (b1 + b2) / 2\n",
    "        epochs += 1\n",
    "        count = 0\n",
    "        ypred = np.sign(np.dot(w.T , x_test.T) + b) \n",
    "        tp=y_validation[np.logical_and(y_validation==1,ypred==1)].shape[0]\n",
    "        fp=y_validation[np.logical_and(y_validation==-1,ypred==1)].shape[0]\n",
    "        fn = y_validation[np.logical_and(y_validation==1,ypred== -1)].shape[0]\n",
    "        tn = y_validation[np.logical_and(y_validation==-1,ypred== -1)].shape[0]\n",
    "#         tp = tp / (tp + fn)\n",
    "#         fp = fp / (fp + tn)\n",
    "        tparr.append(tp)\n",
    "        fparr.append(fp)\n",
    "        \n",
    "        if epochs == 10:\n",
    "            break\n",
    "    w = calculate_w(alpha , x_train , y_train)\n",
    "    b = calculate_b(w , x_train , y_train)\n",
    "    supportIndex = np.where(alpha != 0)[0]\n",
    "    supports = x_train[supportIndex , :]\n",
    "    return w , b , supports , tp , fp"
   ]
  },
  {
   "cell_type": "code",
   "execution_count": 17,
   "metadata": {
    "scrolled": false
   },
   "outputs": [],
   "source": [
    "carr = [0.01 , 0.1 , 1 , 10 , 100 , 1000 , 10000 , 100000] \n",
    "warr = []\n",
    "barr = []\n",
    "farr = []\n",
    "tarr = []\n",
    "for i in range(8):\n",
    "    c = carr[i]\n",
    "    w , b , s , tp , fp = fit()\n",
    "    warr.append(w)\n",
    "    barr.append(b)\n",
    "    farr.append(fp)\n",
    "    tarr.append(tp)"
   ]
  },
  {
   "cell_type": "code",
   "execution_count": 21,
   "metadata": {
    "scrolled": true
   },
   "outputs": [],
   "source": [
    "# ids = np.argsort(farr)\n",
    "# farr = np.asarray(farr)\n",
    "# tarr = np.asarray(tarr)\n",
    "# farr = farr[ids]\n",
    "# tarr = tarr[ids]\n",
    "# plt.plot(farr,tarr)\n",
    "# w = warr[ids[0]]\n",
    "# b = barr[ids[0]]"
   ]
  },
  {
   "cell_type": "code",
   "execution_count": 19,
   "metadata": {},
   "outputs": [],
   "source": [
    "ypred = np.sign(np.dot(w.T , x_test.T) + b)    "
   ]
  },
  {
   "cell_type": "code",
   "execution_count": 20,
   "metadata": {},
   "outputs": [
    {
     "name": "stdout",
     "output_type": "stream",
     "text": [
      "92.5\n"
     ]
    }
   ],
   "source": [
    "count = 0\n",
    "for i in range(200):\n",
    "    if ypred[i] == y_test[i]:\n",
    "        count += 1\n",
    "print((count / 200) * 100)"
   ]
  },
  {
   "cell_type": "code",
   "execution_count": null,
   "metadata": {},
   "outputs": [],
   "source": []
  }
 ],
 "metadata": {
  "kernelspec": {
   "display_name": "Python 3",
   "language": "python",
   "name": "python3"
  },
  "language_info": {
   "codemirror_mode": {
    "name": "ipython",
    "version": 3
   },
   "file_extension": ".py",
   "mimetype": "text/x-python",
   "name": "python",
   "nbconvert_exporter": "python",
   "pygments_lexer": "ipython3",
   "version": "3.7.3"
  }
 },
 "nbformat": 4,
 "nbformat_minor": 2
}
