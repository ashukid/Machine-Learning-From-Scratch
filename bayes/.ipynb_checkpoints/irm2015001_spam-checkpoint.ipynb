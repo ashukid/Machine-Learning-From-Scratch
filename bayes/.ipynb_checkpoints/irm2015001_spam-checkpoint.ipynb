{
 "cells": [
  {
   "cell_type": "code",
   "execution_count": 4,
   "metadata": {},
   "outputs": [],
   "source": [
    "import numpy as np\n",
    "import pandas as pd\n",
    "import matplotlib.pyplot as mplot\n",
    "import re"
   ]
  },
  {
   "cell_type": "code",
   "execution_count": 5,
   "metadata": {},
   "outputs": [],
   "source": [
    "df=pd.read_csv(\"spam.csv\",encoding=\"ISO-8859-1\",usecols=[\"v1\",\"v2\"])\n",
    "df=df.replace(df.v1.unique(),range(df.v1.nunique()))"
   ]
  },
  {
   "cell_type": "code",
   "execution_count": 6,
   "metadata": {},
   "outputs": [
    {
     "data": {
      "text/plain": [
       "((5572,), (5572,))"
      ]
     },
     "execution_count": 6,
     "metadata": {},
     "output_type": "execute_result"
    }
   ],
   "source": [
    "yd,xd=df.v1.values,df.v2.values\n",
    "xd.shape,yd.shape"
   ]
  },
  {
   "cell_type": "code",
   "execution_count": 7,
   "metadata": {},
   "outputs": [],
   "source": [
    "def count_vectorize(xd):\n",
    "    \n",
    "    for i in range(len(xd)):\n",
    "        xd[i]=re.sub('[^\\s\\w]','',xd[i])\n",
    "        \n",
    "    unique_words={}\n",
    "    for rows in xd:\n",
    "        for words in rows.split(\" \"):\n",
    "            unique_words.setdefault(words,len(unique_words))\n",
    "\n",
    "    newxd=[]\n",
    "    for rows in xd:\n",
    "        newrow=np.zeros(len(unique_words))\n",
    "        for words in rows.split(\" \"):\n",
    "            newrow[unique_words[words]]=1\n",
    "        newxd.append(newrow)\n",
    "    return np.array(newxd)\n",
    "xd=count_vectorize(xd)"
   ]
  },
  {
   "cell_type": "code",
   "execution_count": 8,
   "metadata": {},
   "outputs": [
    {
     "data": {
      "text/plain": [
       "(0.8659368269921034, 0.13406317300789664)"
      ]
     },
     "execution_count": 8,
     "metadata": {},
     "output_type": "execute_result"
    }
   ],
   "source": [
    "cham=yd[yd==0].shape[0]\n",
    "cspam=yd[yd==1].shape[0]\n",
    "prior_ham=cham/(cham+cspam)\n",
    "prior_spam=cspam/(cham+cspam)\n",
    "prior_ham,prior_spam"
   ]
  },
  {
   "cell_type": "code",
   "execution_count": 9,
   "metadata": {},
   "outputs": [],
   "source": [
    "ypred=[]\n",
    "xd_spam=xd[yd==1]\n",
    "xd_ham=xd[yd==0]\n",
    "\n",
    "for idx in range(xd.shape[0]):\n",
    "    x,y=xd[idx,:],yd[idx]\n",
    "\n",
    "    post_spam=1\n",
    "    for i in range(xd_spam.shape[1],100):\n",
    "        temp=x[i]\n",
    "        px=xd_spam[:,i].mean()\n",
    "        if(not temp):\n",
    "            px=1-px\n",
    "        px+=0.001\n",
    "        post_spam = round(post_spam*px,10)\n",
    "\n",
    "    prob_spam = prior_spam*post_spam\n",
    "    \n",
    "    post_ham=1\n",
    "    for i in range(xd_ham.shape[1],100):\n",
    "        temp=x[i]\n",
    "        px=xd_ham[:,i].mean()\n",
    "        if(not temp):\n",
    "            px=1-px\n",
    "        px+=0.001\n",
    "        post_ham = round(post_ham*px,10)\n",
    "    prob_ham=prior_ham*post_ham\n",
    "    \n",
    "    \n",
    "    if(prob_ham>prob_spam):\n",
    "        ypred.append(0)\n",
    "    else:\n",
    "        ypred.append(1)"
   ]
  },
  {
   "cell_type": "code",
   "execution_count": 287,
   "metadata": {},
   "outputs": [
    {
     "name": "stdout",
     "output_type": "stream",
     "text": [
      "Accuracy : 86.59368269921033\n"
     ]
    }
   ],
   "source": [
    "print(\"Accuracy : {}\".format(np.equal(ypred,yd).mean()*100))"
   ]
  },
  {
   "cell_type": "code",
   "execution_count": null,
   "metadata": {},
   "outputs": [],
   "source": []
  }
 ],
 "metadata": {
  "kernelspec": {
   "display_name": "Python 3",
   "language": "python",
   "name": "python3"
  },
  "language_info": {
   "codemirror_mode": {
    "name": "ipython",
    "version": 3
   },
   "file_extension": ".py",
   "mimetype": "text/x-python",
   "name": "python",
   "nbconvert_exporter": "python",
   "pygments_lexer": "ipython3",
   "version": "3.6.5"
  }
 },
 "nbformat": 4,
 "nbformat_minor": 2
}
